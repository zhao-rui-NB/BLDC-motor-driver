{
 "cells": [
  {
   "cell_type": "code",
   "execution_count": 9,
   "metadata": {},
   "outputs": [
    {
     "data": {
      "text/plain": [
       "255"
      ]
     },
     "execution_count": 9,
     "metadata": {},
     "output_type": "execute_result"
    }
   ],
   "source": [
    "# cvt 'F3' to bytes \n",
    "\n",
    "s = 'FF'\n",
    "b = bytes.fromhex(s)\n",
    "\n",
    "\n",
    "b[0]"
   ]
  },
  {
   "cell_type": "code",
   "execution_count": null,
   "metadata": {},
   "outputs": [],
   "source": []
  },
  {
   "cell_type": "code",
   "execution_count": 22,
   "metadata": {},
   "outputs": [
    {
     "name": "stdout",
     "output_type": "stream",
     "text": [
      "b'\\x00\\x00\\xc8B'\n"
     ]
    }
   ],
   "source": [
    "# float cvt to 4 bytes\n",
    "import struct\n",
    "f = 100\n",
    "b = struct.pack('<f', f)\n",
    "print(b)"
   ]
  },
  {
   "cell_type": "code",
   "execution_count": 29,
   "metadata": {},
   "outputs": [
    {
     "name": "stdout",
     "output_type": "stream",
     "text": [
      "100.0\n"
     ]
    }
   ],
   "source": [
    "# cvt \"00 00 C8 42 \" to 100.0\n",
    "b = bytes.fromhex('00 00 C8 42')\n",
    "f = struct.unpack('<f', b)[0]\n",
    "print(f)"
   ]
  },
  {
   "cell_type": "code",
   "execution_count": 3,
   "metadata": {},
   "outputs": [
    {
     "data": {
      "text/plain": [
       "{'num': 20}"
      ]
     },
     "execution_count": 3,
     "metadata": {},
     "output_type": "execute_result"
    }
   ],
   "source": [
    "# load json file \n",
    "\n",
    "import json\n",
    "with open('j.json') as f:\n",
    "    data = json.load(f)\n",
    "    \n",
    "data"
   ]
  },
  {
   "cell_type": "code",
   "execution_count": 7,
   "metadata": {},
   "outputs": [
    {
     "data": {
      "text/plain": [
       "1"
      ]
     },
     "execution_count": 7,
     "metadata": {},
     "output_type": "execute_result"
    }
   ],
   "source": [
    "s = \"0x01\"\n",
    "\n",
    "int(s, 16)"
   ]
  },
  {
   "cell_type": "code",
   "execution_count": 1,
   "metadata": {},
   "outputs": [
    {
     "name": "stdout",
     "output_type": "stream",
     "text": [
      "Port: COM7, Description: 透過藍牙連結的標準序列 (COM7)\n",
      "Port: COM1, Description: 通訊連接埠 (COM1)\n",
      "Port: COM3, Description: MSP Debug Interface (COM3)\n",
      "Port: COM6, Description: 透過藍牙連結的標準序列 (COM6)\n",
      "Port: COM69, Description: com0com - serial port emulator CNCA1 (COM69)\n",
      "Port: COM70, Description: com0com - serial port emulator CNCB1 (COM70)\n",
      "Port: COM4, Description: MSP Application UART1 (COM4)\n"
     ]
    }
   ],
   "source": [
    "import serial.tools.list_ports\n",
    "\n",
    "def list_com_ports():\n",
    "    ports = serial.tools.list_ports.comports()\n",
    "    if not ports:\n",
    "        print(\"No COM Ports found!\")\n",
    "    else:\n",
    "        for port in ports:\n",
    "            print(f\"Port: {port.device}, Description: {port.description}\")\n",
    "\n",
    "if __name__ == \"__main__\":\n",
    "    list_com_ports()\n"
   ]
  },
  {
   "cell_type": "code",
   "execution_count": null,
   "metadata": {},
   "outputs": [
    {
     "name": "stdout",
     "output_type": "stream",
     "text": [
      "COM7\n",
      "None\n",
      "COM7 透過藍牙連結的標準序列 (COM7)\n",
      "COM1\n",
      "None\n",
      "COM1 通訊連接埠 (COM1)\n",
      "COM3\n",
      "None\n",
      "COM3 MSP Debug Interface (COM3)\n",
      "COM6\n",
      "None\n",
      "COM6 透過藍牙連結的標準序列 (COM6)\n",
      "COM69\n",
      "None\n",
      "COM69 com0com - serial port emulator CNCA1 (COM69)\n",
      "COM70\n",
      "None\n",
      "COM70 com0com - serial port emulator CNCB1 (COM70)\n",
      "COM4\n",
      "None\n",
      "COM4 MSP Application UART1 (COM4)\n",
      "None\n"
     ]
    }
   ],
   "source": [
    "import serial.tools.list_ports\n",
    "ports = serial.tools.list_ports.comports()\n",
    "for p in ports:\n",
    "    print(p.name)\n",
    "    print(p.device , p.description)\n",
    "\n",
    "print(ports[0].serial_number)\n"
   ]
  }
 ],
 "metadata": {
  "kernelspec": {
   "display_name": "Python 3",
   "language": "python",
   "name": "python3"
  },
  "language_info": {
   "codemirror_mode": {
    "name": "ipython",
    "version": 3
   },
   "file_extension": ".py",
   "mimetype": "text/x-python",
   "name": "python",
   "nbconvert_exporter": "python",
   "pygments_lexer": "ipython3",
   "version": "3.11.7"
  }
 },
 "nbformat": 4,
 "nbformat_minor": 2
}
